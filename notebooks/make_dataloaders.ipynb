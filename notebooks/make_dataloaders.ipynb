{
 "cells": [
  {
   "cell_type": "code",
   "execution_count": null,
   "metadata": {},
   "outputs": [],
   "source": [
    "import pandas as pd\n",
    "import torch\n",
    "from torch.utils.data import TensorDataset, DataLoader, RandomSampler\n",
    "from transformers import *\n",
    "from pathlib import Path\n",
    "import numpy as np"
   ]
  },
  {
   "cell_type": "markdown",
   "metadata": {},
   "source": [
    "#### Choose device"
   ]
  },
  {
   "cell_type": "code",
   "execution_count": null,
   "metadata": {
    "scrolled": true
   },
   "outputs": [],
   "source": [
    "device = torch.device(\"cuda\" if torch.cuda.is_available() else \"cpu\")\n",
    "n_gpu = torch.cuda.device_count()\n",
    "print(torch.cuda.get_device_name(0))"
   ]
  },
  {
   "cell_type": "markdown",
   "metadata": {},
   "source": [
    "#### CSV to DF"
   ]
  },
  {
   "cell_type": "code",
   "execution_count": null,
   "metadata": {},
   "outputs": [],
   "source": [
    "csv_path = Path(\"path_to_CSVs\")\n",
    "delimiter='\\t'"
   ]
  },
  {
   "cell_type": "code",
   "execution_count": null,
   "metadata": {
    "scrolled": true
   },
   "outputs": [],
   "source": [
    "df_train = pd.read_csv(csv_path/'train.csv', delimiter=delimiter) \n",
    "print(df_train.shape)\n",
    "df_train.head()"
   ]
  },
  {
   "cell_type": "code",
   "execution_count": null,
   "metadata": {},
   "outputs": [],
   "source": [
    "df_valid = pd.read_csv(csv_path/'dev.csv', delimiter='\\t') \n",
    "print(df_valid.shape)\n",
    "df_valid.head()"
   ]
  },
  {
   "cell_type": "code",
   "execution_count": null,
   "metadata": {},
   "outputs": [],
   "source": [
    "df_test = pd.read_csv(csv_path/'test.csv', delimiter='\\t') \n",
    "print(df_test.shape)\n",
    "df_test.head()"
   ]
  },
  {
   "cell_type": "markdown",
   "metadata": {},
   "source": [
    "#### Get list of labels from DF columns"
   ]
  },
  {
   "cell_type": "code",
   "execution_count": null,
   "metadata": {},
   "outputs": [],
   "source": [
    "cols = df_train.columns\n",
    "label_cols = list(cols[3:])\n",
    "num_labels = len(label_cols)\n",
    "print('Label columns: ', label_cols)\n",
    "print(num_labels)"
   ]
  },
  {
   "cell_type": "code",
   "execution_count": null,
   "metadata": {},
   "outputs": [],
   "source": [
    "#shuffle rows\n",
    "df_train = df_train.sample(frac=1).reset_index(drop=True) \n",
    "df_valid = df_valid.sample(frac=1).reset_index(drop=True) \n",
    "df_test = df_test.sample(frac=1).reset_index(drop=True) "
   ]
  },
  {
   "cell_type": "code",
   "execution_count": null,
   "metadata": {},
   "outputs": [],
   "source": [
    "df_train['one_hot_labels'] = list(df_train[label_cols].values)\n",
    "df_valid['one_hot_labels'] = list(df_valid[label_cols].values)\n",
    "df_test['one_hot_labels'] = list(df_test[label_cols].values)\n",
    "df_train.head()"
   ]
  },
  {
   "cell_type": "markdown",
   "metadata": {},
   "source": [
    "#### Convert to DF values to list"
   ]
  },
  {
   "cell_type": "code",
   "execution_count": null,
   "metadata": {},
   "outputs": [],
   "source": [
    "train_labels = list(df_train.one_hot_labels.values)\n",
    "train_text = list(df_train.abstract.values)\n",
    "\n",
    "valid_labels = list(df_valid.one_hot_labels.values)\n",
    "valid_text = list(df_valid.abstract.values)\n",
    "\n",
    "test_labels = list(df_test.one_hot_labels.values)\n",
    "test_text = list(df_test.abstract.values)"
   ]
  },
  {
   "cell_type": "markdown",
   "metadata": {},
   "source": [
    "#### Tokenize texts and gete input_ids + attention masks"
   ]
  },
  {
   "cell_type": "code",
   "execution_count": null,
   "metadata": {
    "tags": []
   },
   "outputs": [],
   "source": [
    "max_length = 512 # max sequence length\n",
    "model_name = \"flaubert/flaubert_base_cased\"\n",
    "tokenizer = AutoTokenizer.from_pretrained(model_name)"
   ]
  },
  {
   "cell_type": "code",
   "execution_count": null,
   "metadata": {},
   "outputs": [],
   "source": [
    "encodings_train = tokenizer.batch_encode_plus(train_text,max_length=max_length,padding='max_length',truncation=True) \n",
    "print('tokenizer outputs: ', encodings_train.keys())"
   ]
  },
  {
   "cell_type": "code",
   "execution_count": null,
   "metadata": {},
   "outputs": [],
   "source": [
    "encodings_valid = tokenizer.batch_encode_plus(valid_text,max_length=max_length,padding='max_length',truncation=True) \n",
    "print('tokenizer outputs: ', encodings_valid.keys())"
   ]
  },
  {
   "cell_type": "code",
   "execution_count": null,
   "metadata": {},
   "outputs": [],
   "source": [
    "encodings_test = tokenizer.batch_encode_plus(test_text,max_length=max_length,padding='max_length',truncation=True)\n",
    "print('tokenizer outputs: ', encodings_test.keys())"
   ]
  },
  {
   "cell_type": "code",
   "execution_count": null,
   "metadata": {},
   "outputs": [],
   "source": [
    "train_input_ids = encodings_train['input_ids'] # tokenized and encoded sentences\n",
    "train_attention_masks = encodings_train['attention_mask'] # attention masks"
   ]
  },
  {
   "cell_type": "code",
   "execution_count": null,
   "metadata": {},
   "outputs": [],
   "source": [
    "valid_input_ids = encodings_valid['input_ids']\n",
    "valid_attention_masks = encodings_valid['attention_mask']\n",
    "test_input_ids = encodings_test['input_ids']\n",
    "test_attention_masks = encodings_test['attention_mask']"
   ]
  },
  {
   "cell_type": "markdown",
   "metadata": {},
   "source": [
    "### Convert to tensors and Make Dataloaders"
   ]
  },
  {
   "cell_type": "code",
   "execution_count": null,
   "metadata": {},
   "outputs": [],
   "source": [
    "train_inputs_tensor = torch.tensor(np.array(train_input_ids))\n",
    "train_masks_tensor = torch.tensor(np.array(train_attention_masks))\n",
    "train_labels_tensor = torch.tensor(np.array(train_labels))\n",
    "\n",
    "validation_inputs_tensor = torch.tensor(np.array(valid_input_ids))\n",
    "validation_masks_tensor = torch.tensor(np.array(valid_attention_masks))\n",
    "validation_labels_tensor = torch.tensor(np.array(valid_labels))\n",
    "\n",
    "test_inputs_tensor = torch.tensor(np.array(test_input_ids))\n",
    "test_masks_tensor = torch.tensor(np.array(test_attention_masks))\n",
    "test_labels_tensor = torch.tensor(np.array(test_labels))"
   ]
  },
  {
   "cell_type": "code",
   "execution_count": null,
   "metadata": {},
   "outputs": [],
   "source": [
    "# Select a batch size for training. a power of 2 is recommended\n",
    "batch_size = 8\n",
    "\n",
    "train_data = TensorDataset(train_inputs_tensor, train_masks_tensor, train_labels_tensor)\n",
    "train_sampler = RandomSampler(train_data)\n",
    "train_dataloader = DataLoader(train_data, sampler=train_sampler, batch_size=batch_size)\n",
    "\n",
    "validation_data = TensorDataset(validation_inputs_tensor, validation_masks_tensor, validation_labels_tensor)\n",
    "validation_sampler = RandomSampler(validation_data)\n",
    "validation_dataloader = DataLoader(validation_data, sampler=validation_sampler, batch_size=batch_size)\n",
    "\n",
    "test_data = TensorDataset(test_inputs_tensor, test_masks_tensor, test_labels_tensor)\n",
    "test_sampler = RandomSampler(test_data)\n",
    "test_dataloader = DataLoader(test_data, sampler=test_sampler, batch_size=batch_size)"
   ]
  },
  {
   "cell_type": "code",
   "execution_count": null,
   "metadata": {},
   "outputs": [],
   "source": [
    "save_path = Path('FlauBERT/dataloaders/')"
   ]
  },
  {
   "cell_type": "code",
   "execution_count": null,
   "metadata": {},
   "outputs": [],
   "source": [
    "torch.save(train_dataloader,save_path/f'train_data_loader-{batch_size}-{max_length}')\n",
    "torch.save(validation_dataloader,save_path/f'validation_data_loader-{batch_size}-{max_length}')\n",
    "torch.save(test_dataloader,save_path/f'test_data_loader-{batch_size}-{max_length}')"
   ]
  },
  {
   "cell_type": "code",
   "execution_count": null,
   "metadata": {},
   "outputs": [],
   "source": []
  }
 ],
 "metadata": {
  "kernelspec": {
   "display_name": "Python 3 (ipykernel)",
   "language": "python",
   "name": "python3"
  },
  "language_info": {
   "codemirror_mode": {
    "name": "ipython",
    "version": 3
   },
   "file_extension": ".py",
   "mimetype": "text/x-python",
   "name": "python",
   "nbconvert_exporter": "python",
   "pygments_lexer": "ipython3",
   "version": "3.8.10"
  }
 },
 "nbformat": 4,
 "nbformat_minor": 4
}
